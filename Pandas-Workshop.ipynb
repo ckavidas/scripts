{
 "cells": [
  {
   "cell_type": "raw",
   "metadata": {},
   "source": [
    "#\n",
    "#     _____ _____ _____               _                  ______                         _                                     \n",
    "#    |_   _/  ___/  ___|             (_)                 | ___ \\                       | |      _                             \n",
    "#      | | \\ `--.\\ `--.  ___  ___ ___ _  ___  _ __  ___  | |_/ / __ ___  ___  ___ _ __ | |_ ___(_)                            \n",
    "#      | |  `--. \\`--. \\/ _ \\/ __/ __| |/ _ \\| '_ \\/ __| |  __/ '__/ _ \\/ __|/ _ \\ '_ \\| __/ __|                              \n",
    "#     _| |_/\\__/ /\\__/ /  __/\\__ \\__ \\ | (_) | | | \\__ \\ | |  | | |  __/\\__ \\  __/ | | | |_\\__ \\_                             \n",
    "#     \\___/\\____/\\____/ \\___||___/___/_|\\___/|_| |_|___/ \\_|  |_|  \\___||___/\\___|_| |_|\\__|___(_)                            \n",
    "#                                                                                                                             \n",
    "#                                                                                                                             \n",
    "#      ___          _____      _                 _            _   _               _____      ______               _           \n",
    "#     / _ \\        |_   _|    | |               | |          | | (_)             |_   _|     | ___ \\             | |          \n",
    "#    / /_\\ \\_ __     | | _ __ | |_ _ __ ___   __| |_   _  ___| |_ _  ___  _ __     | | ___   | |_/ /_ _ _ __   __| | __ _ ___ \n",
    "#    |  _  | '_ \\    | || '_ \\| __| '__/ _ \\ / _` | | | |/ __| __| |/ _ \\| '_ \\    | |/ _ \\  |  __/ _` | '_ \\ / _` |/ _` / __|\n",
    "#    | | | | | | |  _| || | | | |_| | | (_) | (_| | |_| | (__| |_| | (_) | | | |   | | (_) | | | | (_| | | | | (_| | (_| \\__ \\\n",
    "#    \\_| |_/_| |_|  \\___/_| |_|\\__|_|  \\___/ \\__,_|\\__,_|\\___|\\__|_|\\___/|_| |_|   \\_/\\___/  \\_|  \\__,_|_| |_|\\__,_|\\__,_|___/\n",
    "#                                                                                                                             \n",
    "#                         By: Louai Abboud & The ISSessions Executive Team                                                              \n",
    "#\n",
    "                                                                                                                                                                  "
   ]
  },
  {
   "cell_type": "markdown",
   "metadata": {},
   "source": [
    "## **Introduction: Who are We**"
   ]
  },
  {
   "cell_type": "markdown",
   "metadata": {},
   "source": [
    "-----------------------\n",
    "### Workshop Lead: Louai Abboud\n",
    "- Former ISSessions President\n",
    "- Current ISSessions Vice President\n",
    "- 3rd Year Student @ Sheridan\n",
    "- Threat Hunting Internship @ Bell Canada\n",
    "- C3X Organizer\n",
    "- Security Interests: Threat Hunting, Detection Engineering, Data Analysis, Pandas/Jupyter Notebooks\n",
    "- Interests: Reading (Forgotten Realms Universe, Dune, Old Classics), Dancing, Netflix, Being around People \n",
    "\n",
    "### Workshop Assistants: \n",
    "- Kurt Kousbek, President\n",
    "- Nashad Hakim, Treasurer\n",
    "- Cem Celen, Community Manager\n",
    "- Yusef Islaih, Webmaster \n",
    "-------------------------"
   ]
  },
  {
   "cell_type": "markdown",
   "metadata": {},
   "source": [
    "## **Agenda**\n",
    "----------------\n",
    "1. Why Pandas?\n",
    "2. Tool Tour: Docker + Jupyter Lab\n",
    "3. Prerequisite: Python Crash Course\n",
    "4. Part 1: Pandas Theory\n",
    "5. Part 2: Basic Pandas Operations\n",
    "6. Part 3: Data Modification, Filtering, and Aggregation\n",
    "7. Part 4: Data Correlation\n",
    "8. Bonus: Analyzing Known Malware URLs using URLHAUS Dataset\n",
    "-----------------"
   ]
  },
  {
   "cell_type": "markdown",
   "metadata": {},
   "source": [
    "## **Tools: JupyterLab Demo**\n",
    "----------------------------"
   ]
  },
  {
   "cell_type": "markdown",
   "metadata": {},
   "source": [
    "1. How to Run a Cell?\n",
    "2. How to Restart the Kernel and Clear all Outputs? Right Cick -> \"Clear All Outputs\", then Right-Click -> \"Restart Kernel\"\n",
    "-----------------------------"
   ]
  },
  {
   "cell_type": "markdown",
   "metadata": {},
   "source": [
    "## **Tools: Docker**\n",
    "-------------------------"
   ]
  },
  {
   "cell_type": "markdown",
   "metadata": {},
   "source": [
    "- Containerization Technology: provide process, filesystem, network isolation\n",
    "- Much lighter than VMs: 1) contain only processes, services, and files you bake into them; 2) no hardware virtualization.\n",
    "- Great for prototyping, development, and testing. I didn't set up a JupyterLab server, I spun up a pre-built JupyterLab container.\n",
    "- Almost Zero Cleanup: When you yeet the container is destroyed, you yeet everything in it.\n",
    "    \n",
    "**After Workshop Cleanup**: \n",
    "1. Open the Windows Command Prompt\n",
    "2. docker container ls \n",
    "3. docker container stop \\<container_id\\>\n",
    "4. docker container rm \\<container_id\\>\n",
    "------------------"
   ]
  },
  {
   "cell_type": "markdown",
   "metadata": {},
   "source": [
    "## **Introduction: Why Pandas?**\n",
    "---------------------------------"
   ]
  },
  {
   "cell_type": "markdown",
   "metadata": {},
   "source": [
    "- Pandas is a Python Data Analytics Library (like PySpark)\n",
    "- It simplies the data analysis process by providing a simple interface by which a Data Analyst can:\n",
    "    - Clean (Often Messy!) Data\n",
    "    - Filter on (Lots & Lots of) Data\n",
    "    - Aggregate on Data -> Statistics! Statistics! Statistics!\n",
    "    - Correlate Data -> Intelligence = Data Correlation + Contextualization\n",
    "    - Visualize Data -> A picture is worth a million words!\n",
    "    - Produce Reports -> Management luv dem reports!!! <3\n",
    "- Why Pandas for Security? \n",
    "    - Cybersecurity is an exercise in data collection, filtering, enrichment, correlation, contextualization, and communication.   \n",
    "    - Security is all about making the right decisions at the right time. Ex: You recieive an alert telling you that a beacon to a Command and Control has been detected? What do you do? \n",
    "        - Right Decisions -> Require Actionable Intelligence\n",
    "        - Right Time -> Require Aggressive Automation\n",
    "---------------------------------"
   ]
  },
  {
   "cell_type": "markdown",
   "metadata": {},
   "source": [
    "## **Where is Pandas Used in Security?**\n",
    "---------------------------------------\n",
    "- **Threat Detection**: Pandas can help us correlate malicious indicators (look at the work of Cyberwardog and Cyberpanda). Malicious indicators are often spread out across Email Logs, Host Logs, IDPS Logs, Packet Captures, Proxy Logs, AV Logs. By itself, a single malicious indicator does not give us a lot of information. Pandas can help us correlate by:\n",
    "    - Host\n",
    "    - User\n",
    "    - Process\n",
    "    - IP\n",
    "- **Incident Response**: Pandas can help us cut the time from initial breach to incident remediation. I know that I've been breached. What information do I need to collect in the next hour? What are the first 8-10 questions I would ask? Can I automate the collection and reporting of that information?\n",
    "- **Threat Intelligence**: Pandas helps us contextualize log data with information from internal and external APIs and services. A ton of data is publicly available over hundreds if not thousands of public APIs (VirusTotal, IPVoid, DomainTools, PhishTank, OpenPhish, Crowdstrike etc.). Large organizations often have internal APIs to assist IT staff with automation. For example:\n",
    "    - enrich username information with business unit, job title, etc.\n",
    "    - enrich hostnames with application information\n",
    "    - enrich IP/domain information with geolocation, registration date, blacklist information \n",
    "- **Machine Learning**: analyzing user behaviour, monitoring to changes from a baseline, etc.\n",
    "- **Adhoc Automation, Data Analysis, and Reporting**: Pandas can help you answer adhoc questions that may come up. Which of my servers are not sending logs? How many people clicked the link? Which advanced persistent threats often target clothing and fashion industry based on threat intelligence feeds?\n",
    "-----------------------------------------"
   ]
  },
  {
   "cell_type": "markdown",
   "metadata": {},
   "source": [
    "## **Other Reasons for Learning Pandas**\n",
    "-----------------------------------------\n",
    "- Who doesn't love pandas? ;)\n",
    "- Automation and Programming skills are IN - crazy shortage in our industry!\n",
    "- Fun <- able to answer ANY question based on existing data <-- IT'S A SUPERPOWER\n",
    "-----------------------------------------"
   ]
  },
  {
   "cell_type": "markdown",
   "metadata": {},
   "source": [
    "## **Prerequisite: Python Crash Course**"
   ]
  },
  {
   "cell_type": "markdown",
   "metadata": {},
   "source": [
    "### Variable Declaration"
   ]
  },
  {
   "cell_type": "code",
   "execution_count": null,
   "metadata": {},
   "outputs": [],
   "source": [
    "x = 1 \n",
    "y = 3.14\n",
    "word = \"I am a string\"\n",
    "print(word)"
   ]
  },
  {
   "cell_type": "markdown",
   "metadata": {},
   "source": [
    "### Declaring a List"
   ]
  },
  {
   "cell_type": "code",
   "execution_count": null,
   "metadata": {},
   "outputs": [],
   "source": [
    "a_list = [1, 2, 2, 3, 4, 5, 6 ,7, 7]\n",
    "# empty_list = []\n",
    "a_list"
   ]
  },
  {
   "cell_type": "markdown",
   "metadata": {},
   "source": [
    "### Accessing List Elements"
   ]
  },
  {
   "cell_type": "code",
   "execution_count": null,
   "metadata": {},
   "outputs": [],
   "source": [
    "a_list = [1, 2, 2, 3, 4, 5, 6 ,7, 7]\n",
    "a_list[0]"
   ]
  },
  {
   "cell_type": "markdown",
   "metadata": {},
   "source": [
    "### Slicing a List "
   ]
  },
  {
   "cell_type": "code",
   "execution_count": null,
   "metadata": {},
   "outputs": [],
   "source": [
    "a_list = [1, 2, 2, 3, 4, 5, 6 ,7, 7]\n",
    "a_list[5:8]"
   ]
  },
  {
   "cell_type": "markdown",
   "metadata": {},
   "source": [
    "### Adding an Element to a List"
   ]
  },
  {
   "cell_type": "code",
   "execution_count": null,
   "metadata": {},
   "outputs": [],
   "source": [
    "a_list = [1, 2, 2, 3, 4, 5, 6 ,7, 7]\n",
    "a_list.append(30000000000000)\n",
    "a_list"
   ]
  },
  {
   "cell_type": "markdown",
   "metadata": {},
   "source": [
    "### Removing an Element from a List"
   ]
  },
  {
   "cell_type": "code",
   "execution_count": null,
   "metadata": {},
   "outputs": [],
   "source": [
    "a_list = [1, 2, 2, 3, 4, 5, 6 ,7, 7]\n",
    "a_list.remove(7) # Remove by name, Removes first element only\n",
    "# a_list.pop(7) # Remove by index and get the value returned\n",
    "# a_list.clear() # Removes everything in the list, result is an empty list\n",
    "a_list"
   ]
  },
  {
   "cell_type": "markdown",
   "metadata": {},
   "source": [
    "### Getting the Length of a List"
   ]
  },
  {
   "cell_type": "code",
   "execution_count": null,
   "metadata": {},
   "outputs": [],
   "source": [
    "a_list = [1, 2, 2, 3, 4, 5, 6 ,7, 7]\n",
    "len(a_list)"
   ]
  },
  {
   "cell_type": "markdown",
   "metadata": {},
   "source": [
    "### List Comprehensions"
   ]
  },
  {
   "cell_type": "code",
   "execution_count": null,
   "metadata": {},
   "outputs": [],
   "source": [
    "numbers = [1, 1, 3, 1]\n",
    "numbers_plus_2 = [n + 2 for n in numbers] # Can also add an if ... else ... just before the \"for\"\n",
    "numbers_plus_2"
   ]
  },
  {
   "cell_type": "markdown",
   "metadata": {},
   "source": [
    "### Declaring a Dictionary"
   ]
  },
  {
   "cell_type": "code",
   "execution_count": null,
   "metadata": {},
   "outputs": [],
   "source": [
    "a_dictionary = {\n",
    "    \"My_Key\": \"My_Value\",\n",
    "    1: \"An Integer Key - Yep You can Mix and Match\",\n",
    "    \"a_list\": [\"Yep\", \"A\", \"List\", \"Inside\", \"A\", \"Dictionary\"]\n",
    "}\n",
    "# empty_dictionary = {}\n",
    "a_dictionary"
   ]
  },
  {
   "cell_type": "markdown",
   "metadata": {},
   "source": [
    "### Accessing Dictionary Elements"
   ]
  },
  {
   "cell_type": "code",
   "execution_count": null,
   "metadata": {},
   "outputs": [],
   "source": [
    "a_dictionary = {\n",
    "    \"My_Key\": \"My_Value\",\n",
    "    1: \"An Integer Key - Yep You can Mix and Match\",\n",
    "    \"a_list\": [\"Yep\", \"A\", \"List\", \"Inside\", \"A\", \"Dictionary\"]\n",
    "}\n",
    "a_dictionary[\"My_Key\"]"
   ]
  },
  {
   "cell_type": "markdown",
   "metadata": {},
   "source": [
    "### Adding a Dictionary Element"
   ]
  },
  {
   "cell_type": "code",
   "execution_count": null,
   "metadata": {},
   "outputs": [],
   "source": [
    "a_dictionary = {\n",
    "    \"My_Key\": \"My_Value\",\n",
    "    1: \"An Integer Key - Yep You can Mix and Match\",\n",
    "    \"a_list\": [\"Yep\", \"A\", \"List\", \"Inside\", \"A\", \"Dictionary\"]\n",
    "}\n",
    "a_dictionary['My_New_Key'] = \"My_New_Value\"\n",
    "a_dictionary"
   ]
  },
  {
   "cell_type": "markdown",
   "metadata": {},
   "source": [
    "### Removing a Dictionary Element"
   ]
  },
  {
   "cell_type": "code",
   "execution_count": null,
   "metadata": {},
   "outputs": [],
   "source": [
    "a_dictionary = {\n",
    "    \"My_Key\": \"My_Value\",\n",
    "    1: \"An Integer Key - Yep You can Mix and Match\",\n",
    "    \"a_list\": [\"Yep\", \"A\", \"List\", \"Inside\", \"A\", \"Dictionary\"]\n",
    "}\n",
    "del a_dictionary[\"My_Key\"]\n",
    "a_dictionary"
   ]
  },
  {
   "cell_type": "markdown",
   "metadata": {},
   "source": [
    "### Accessing all Dictionary Keys"
   ]
  },
  {
   "cell_type": "code",
   "execution_count": null,
   "metadata": {},
   "outputs": [],
   "source": [
    "a_dictionary = {\n",
    "    \"My_Key\": \"My_Value\",\n",
    "    1: \"An Integer Key - Yep You can Mix and Match\",\n",
    "    \"a_list\": [\"Yep\", \"A\", \"List\", \"Inside\", \"A\", \"Dictionary\"]\n",
    "}\n",
    "a_dictionary.keys()"
   ]
  },
  {
   "cell_type": "markdown",
   "metadata": {},
   "source": [
    "### Accessing all Dictionary Values"
   ]
  },
  {
   "cell_type": "code",
   "execution_count": null,
   "metadata": {},
   "outputs": [],
   "source": [
    "a_dictionary = {\n",
    "    \"Key\": \"Value\",\n",
    "    1: \"An Integer Key - Yep You can Mix and Match\",\n",
    "    \"a_list\": [\"Yep\", \"A\", \"List\", \"Inside\", \"A\", \"Dictionary\"]\n",
    "}\n",
    "a_dictionary.values()"
   ]
  },
  {
   "cell_type": "markdown",
   "metadata": {},
   "source": [
    "### If Statements"
   ]
  },
  {
   "cell_type": "code",
   "execution_count": null,
   "metadata": {},
   "outputs": [],
   "source": [
    "the_answer_to_the_meaning_of_life = 42\n",
    "if the_answer_to_the_meaning_of_life == 42:\n",
    "    print(\"IT IS 42\")\n",
    "elif the_answer_to_the_meaning_of_life == 12:\n",
    "    print(\"IT IS 12\")\n",
    "else:\n",
    "    print(\"THERE IS NO MEANING TO LIFE.\")"
   ]
  },
  {
   "cell_type": "markdown",
   "metadata": {},
   "source": [
    "### For Loops"
   ]
  },
  {
   "cell_type": "code",
   "execution_count": null,
   "metadata": {},
   "outputs": [],
   "source": [
    "GOT_characters = [\"little finger\", \"arya stark\", \"Jon Snow\", \"Ygritte\", \"tyrion lannister\"]\n",
    "my_favorite_character = \"tyrion lannister\"\n",
    "for GOT_character in GOT_characters:\n",
    "    if GOT_character == my_favorite_character:\n",
    "        print(\"{0} is my favorite character!!!!\".format(GOT_character))\n",
    "    else:\n",
    "        print(\"{0} is NOT my favorite character. {1} is!\".format(GOT_character, my_favorite_character))"
   ]
  },
  {
   "cell_type": "markdown",
   "metadata": {},
   "source": [
    "### Common String Operations: Splitting a String into a List of Elements"
   ]
  },
  {
   "cell_type": "code",
   "execution_count": null,
   "metadata": {},
   "outputs": [],
   "source": [
    "lets_split_this_baby = \"I am about to be split noooooooooooooooo\"\n",
    "split_into_a_list = lets_split_this_baby.split()\n",
    "split_into_a_list"
   ]
  },
  {
   "cell_type": "markdown",
   "metadata": {},
   "source": [
    "### Common String Operations: Joining a List Into a String"
   ]
  },
  {
   "cell_type": "code",
   "execution_count": null,
   "metadata": {},
   "outputs": [],
   "source": [
    "split_into_a_list = [\"I\", \"shall\", \"be\", \"whole\", \"again!\"] \n",
    "whole_again = \" \".join(split_into_a_list) \n",
    "whole_again"
   ]
  },
  {
   "cell_type": "markdown",
   "metadata": {},
   "source": [
    "### Common String Operations: Replacing a Word in a String"
   ]
  },
  {
   "cell_type": "code",
   "execution_count": null,
   "metadata": {},
   "outputs": [],
   "source": [
    "vulgar_language = \"WHAT THE FUCK DUDE!\"\n",
    "better = vulgar_language.replace(\"FUCK\", \"FUDGE\").replace(\"WHAT\", \"MAKE\").lower()\n",
    "better"
   ]
  },
  {
   "cell_type": "markdown",
   "metadata": {},
   "source": [
    "### Common String Operations: Finding a Substring"
   ]
  },
  {
   "cell_type": "code",
   "execution_count": null,
   "metadata": {},
   "outputs": [],
   "source": [
    "sentence = \"The pen is mightier than the sword.\"\n",
    "word = \"sword\"\n",
    "if word in sentence:\n",
    "    print(True)"
   ]
  },
  {
   "cell_type": "markdown",
   "metadata": {},
   "source": [
    "### Other Common String Operations"
   ]
  },
  {
   "cell_type": "code",
   "execution_count": null,
   "metadata": {},
   "outputs": [],
   "source": [
    "\"love conquers all\".endswith(\"all\") # True\n",
    "\"fear is the mind killer\".startswith(\"fear\") # False\n",
    "\"WOOOOW\".lower() # \"woooow\"\n",
    "\"hodor\".upper() # HODOR"
   ]
  },
  {
   "cell_type": "markdown",
   "metadata": {},
   "source": [
    "### Functions"
   ]
  },
  {
   "cell_type": "code",
   "execution_count": null,
   "metadata": {},
   "outputs": [],
   "source": [
    "def merge_two_strings(stringA, stringB):\n",
    "    return stringA + \" \" + stringB\n",
    "\n",
    "joined_string = merge_two_strings(\"Oh how the moon\", \"yearns for the sun\")\n",
    "joined_string"
   ]
  },
  {
   "cell_type": "markdown",
   "metadata": {},
   "source": [
    "### Checking the Type of an Object"
   ]
  },
  {
   "cell_type": "code",
   "execution_count": null,
   "metadata": {},
   "outputs": [],
   "source": [
    "x = 4\n",
    "word = \"haha\"\n",
    "animals = [\"zebra\", \"dog\", \"cat\"]\n",
    "print(type(x))\n",
    "print(type(word))\n",
    "print(type(animals))"
   ]
  },
  {
   "cell_type": "markdown",
   "metadata": {},
   "source": [
    "-------------------------------------------------------------------------------\n",
    "### **Exercise: Write a Function That Counts the Number of Times a Word Ending in \"orrow\" Appears in The Provided Poem**"
   ]
  },
  {
   "cell_type": "code",
   "execution_count": null,
   "metadata": {},
   "outputs": [],
   "source": [
    "the_raven_opening = \"\"\"\n",
    "Once upon a midnight dreary, while I pondered, weak and weary,\n",
    "Over many a quaint and curious volume of forgotten lore-\n",
    "    While I nodded, nearly napping, suddenly there came a tapping,\n",
    "As of some one gently rapping, rapping at my chamber door.\n",
    "\"'Tis some visitor,\" I muttered, \"tapping at my chamber door-\n",
    "            Only this and nothing more.\"\n",
    "\n",
    "    Ah, distinctly I remember it was in the bleak December;\n",
    "And each separate dying ember wrought its ghost upon the floor.\n",
    "    Eagerly I wished the morrow; vainly I had sought to borrow\n",
    "    From my books surcease of sorrow, sorrow for the lost Lenore-\n",
    "For the rare and radiant maiden whom the angels name Lenore-\n",
    "            Nameless here for evermore.\n",
    "\"\"\"\n",
    "\n"
   ]
  },
  {
   "cell_type": "markdown",
   "metadata": {},
   "source": [
    "------------------------------------------------------"
   ]
  },
  {
   "cell_type": "markdown",
   "metadata": {},
   "source": [
    "## **Part #1: Basic Pandas Theory and Terminology**"
   ]
  },
  {
   "cell_type": "markdown",
   "metadata": {},
   "source": [
    "- Dataframe = Table\n",
    "- Series = Column or a Row\n",
    "- Index = Row Labels\n",
    "- NumPy arrays\n",
    "    - what Series are under the hood\n",
    "    - they are implementation of high perfromance arrays and matrices for scientific computing\n",
    "    - stored more efficiently than lists\n",
    "    - allow for vectorized computing as opposed to looping constructs"
   ]
  },
  {
   "cell_type": "markdown",
   "metadata": {},
   "source": [
    "---------------------------------------------"
   ]
  },
  {
   "cell_type": "markdown",
   "metadata": {},
   "source": [
    "## **Part #2: Basic Pandas Operations**"
   ]
  },
  {
   "cell_type": "markdown",
   "metadata": {},
   "source": [
    "### Setup and Imports"
   ]
  },
  {
   "cell_type": "code",
   "execution_count": null,
   "metadata": {},
   "outputs": [],
   "source": [
    "import pandas as pd\n",
    "import numpy as np"
   ]
  },
  {
   "cell_type": "markdown",
   "metadata": {},
   "source": [
    "### Initializing a Dataframe: Dictionary of Lists"
   ]
  },
  {
   "cell_type": "code",
   "execution_count": null,
   "metadata": {},
   "outputs": [],
   "source": [
    "ids = ['A', 'B', 'C', 'D', 'E', 'F', 'A']\n",
    "names = ['Nash', 'Kurt', 'Louai', 'Jamie', 'Yusef', 'Cem', 'Nash']\n",
    "positions = ['Treasurer', 'President', 'Vice President', 'Events Manager', 'Webmaster', 'Community Manager', 'Treasurer']\n",
    "ages = ['29', '26', '25', '20', '12', None, '29']\n",
    "how_hot = ['11', '7', '11', '7', '3', None, '11']\n",
    "\n",
    "data = {\n",
    "    \"ids\": ids,\n",
    "    \"names\": names,\n",
    "    \"positions\": positions,\n",
    "    \"ages\": ages,\n",
    "    \"how_hot\": how_hot\n",
    "}\n",
    "\n",
    "df = pd.DataFrame(data)\n",
    "df"
   ]
  },
  {
   "cell_type": "markdown",
   "metadata": {},
   "source": [
    "### Initializing a Dataframe: List of Dictionaries"
   ]
  },
  {
   "cell_type": "code",
   "execution_count": null,
   "metadata": {},
   "outputs": [],
   "source": [
    "data = [\n",
    "    {\"ids\": \"A\", \"names\": \"Nash\", \"positions\": \"Treasurer\", \"ages\": \"29\", \"how_hot\": \"11\"},\n",
    "    {\"ids\": \"A\", \"names\": \"Nash\", \"positions\": \"Treasurer\", \"ages\": \"29\", \"how_hot\": \"11\"}, \n",
    "    {\"ids\": \"B\", \"names\": \"Kurt\", \"positions\": \"President\", \"ages\": \"26\", \"how_hot\": \"7\"}, \n",
    "    {\"ids\": \"C\", \"names\": \"Louai\", \"positions\": \"Vice President\", \"ages\": \"25\", \"how_hot\": \"11\"}, \n",
    "    {\"ids\": \"D\", \"names\": \"Jamie\", \"positions\": \"Events Manager\", \"ages\": \"20\", \"how_hot\": \"7\"}, \n",
    "    {\"ids\": \"E\", \"names\": \"Yusef\", \"positions\": \"Webmaster\", \"ages\": \"12\", \"how_hot\": \"3\"}, \n",
    "    {\"ids\": \"F\", \"names\": \"Cem\", \"positions\": \"Community Manager\", \"ages\": None, \"how_hot\": None}\n",
    "]\n",
    "\n",
    "df = pd.DataFrame(data)\n",
    "df"
   ]
  },
  {
   "cell_type": "markdown",
   "metadata": {},
   "source": [
    "### Selecting a Row"
   ]
  },
  {
   "cell_type": "code",
   "execution_count": null,
   "metadata": {},
   "outputs": [],
   "source": [
    "first_three_rows_df = df.iloc[0:3]\n",
    "first_three_rows_df"
   ]
  },
  {
   "cell_type": "markdown",
   "metadata": {},
   "source": [
    "### Selecting a Column (As a DataFrame)"
   ]
  },
  {
   "cell_type": "code",
   "execution_count": null,
   "metadata": {},
   "outputs": [],
   "source": [
    "column_list = [\"names\", \"positions\"]\n",
    "names_and_positions_df = df[column_list]\n",
    "names_and_positions_df"
   ]
  },
  {
   "cell_type": "markdown",
   "metadata": {},
   "source": [
    "### Selecting a Column (As a Series)"
   ]
  },
  {
   "cell_type": "code",
   "execution_count": null,
   "metadata": {},
   "outputs": [],
   "source": [
    "how_hot_series = df['how_hot']\n",
    "print(type(how_hot_series))\n",
    "how_hot_series"
   ]
  },
  {
   "cell_type": "markdown",
   "metadata": {},
   "source": [
    "### Selecting a Row and a Column"
   ]
  },
  {
   "cell_type": "code",
   "execution_count": null,
   "metadata": {},
   "outputs": [],
   "source": [
    "df.loc[1:3, [\"positions\", \"names\"]]"
   ]
  },
  {
   "cell_type": "markdown",
   "metadata": {},
   "source": [
    "### Setting the Index"
   ]
  },
  {
   "cell_type": "code",
   "execution_count": null,
   "metadata": {},
   "outputs": [],
   "source": [
    "df_with_ids_index = df.set_index('ids')\n",
    "df_with_ids_index"
   ]
  },
  {
   "cell_type": "markdown",
   "metadata": {},
   "source": [
    "### Selecting the Index"
   ]
  },
  {
   "cell_type": "code",
   "execution_count": null,
   "metadata": {},
   "outputs": [],
   "source": [
    "df_with_ids_index.index"
   ]
  },
  {
   "cell_type": "markdown",
   "metadata": {},
   "source": [
    "### Resetting the Index"
   ]
  },
  {
   "cell_type": "code",
   "execution_count": null,
   "metadata": {},
   "outputs": [],
   "source": [
    "df_with_ids_index.reset_index(drop=False) # If drop = True, we would lose the ids column"
   ]
  },
  {
   "cell_type": "markdown",
   "metadata": {},
   "source": [
    "### Adding a Column"
   ]
  },
  {
   "cell_type": "code",
   "execution_count": null,
   "metadata": {},
   "outputs": [],
   "source": [
    "df_with_new_column = df\n",
    "df_with_new_column['Favourite Book'] = ['Ella Enchanted', 'Ella Enchanted', 'Ella Enchanted', 'Dune', 'Dune', 'Homeland', 'Homeland']\n",
    "df_with_new_column"
   ]
  },
  {
   "cell_type": "markdown",
   "metadata": {},
   "source": [
    "### Removing a Column"
   ]
  },
  {
   "cell_type": "code",
   "execution_count": null,
   "metadata": {},
   "outputs": [],
   "source": [
    "df_with_new_column.drop(['Favourite Book'], axis=1)"
   ]
  },
  {
   "cell_type": "markdown",
   "metadata": {},
   "source": [
    "### Adding a Row"
   ]
  },
  {
   "cell_type": "code",
   "execution_count": null,
   "metadata": {},
   "outputs": [],
   "source": [
    "df = df.append({\"ids\": \"G\", \"names\": \"Nick\", \"positions\": \"Club Advisor\", \"ages\": None, \"how_hot\": None}, \n",
    "          ignore_index=True) # Not specifying a \"Favourite Book\" causes a \"NaN\", Pandas' way of showing a missing value.\n",
    "df"
   ]
  },
  {
   "cell_type": "markdown",
   "metadata": {},
   "source": [
    "### Removing a Row"
   ]
  },
  {
   "cell_type": "code",
   "execution_count": null,
   "metadata": {},
   "outputs": [],
   "source": [
    "df = df.drop(df.index[7], axis=0)\n",
    "df"
   ]
  },
  {
   "cell_type": "markdown",
   "metadata": {},
   "source": [
    "### Getting Dataframe Column Data Types"
   ]
  },
  {
   "cell_type": "code",
   "execution_count": null,
   "metadata": {},
   "outputs": [],
   "source": [
    "df.dtypes"
   ]
  },
  {
   "cell_type": "markdown",
   "metadata": {},
   "source": [
    "### Filling in Missing Values"
   ]
  },
  {
   "cell_type": "code",
   "execution_count": null,
   "metadata": {},
   "outputs": [],
   "source": [
    "negative_one_for_missing_values_df = df.fillna(-1)\n",
    "negative_one_for_missing_values_df "
   ]
  },
  {
   "cell_type": "code",
   "execution_count": null,
   "metadata": {},
   "outputs": [],
   "source": [
    "no_nas_df = df.dropna()\n",
    "no_nas_df"
   ]
  },
  {
   "cell_type": "markdown",
   "metadata": {},
   "source": [
    "### Dropping Duplicate Rows"
   ]
  },
  {
   "cell_type": "code",
   "execution_count": null,
   "metadata": {},
   "outputs": [],
   "source": [
    "df = negative_one_for_missing_values_df\n",
    "no_duplicates_df = df.drop_duplicates()\n",
    "no_duplicates_df"
   ]
  },
  {
   "cell_type": "markdown",
   "metadata": {},
   "source": [
    "### Setting a Column's Data Type"
   ]
  },
  {
   "cell_type": "code",
   "execution_count": null,
   "metadata": {},
   "outputs": [],
   "source": [
    "df['ages'] = df['ages'].astype(int)\n",
    "df['how_hot'] = df['how_hot'].astype(int)\n",
    "df.dtypes"
   ]
  },
  {
   "cell_type": "markdown",
   "metadata": {},
   "source": [
    "---------------------------------\n",
    "### **Exercise: Perform the Following Operations on the Data Provided**\n",
    "- Make a Dataframe\n",
    "- Change Column Data Types to Appropriate Value\n",
    "- Deal with Duplicates (What do?)\n",
    "- Set the index to RatingID\n",
    "- Deal with Missing Data: Drop or Fill (And with what?)\n",
    "- Set Approprite Data Types for all Columns\n",
    "- *Extra #1*: Give me the average course rating and the average professor rating (using Pandas, of course :P)\n",
    "- *Extra #2*: Give me the highest course rating and the highest professor rating (using Pandas, of course :P)"
   ]
  },
  {
   "cell_type": "code",
   "execution_count": null,
   "metadata": {},
   "outputs": [],
   "source": [
    "course_prof_ratings = [\n",
    "    {\"RatingID\": \"A\", \"CourseID\": \"SEC1123\", \"Professor\": \"Minerva McGonagall\", \"Course Rating\": \"7\", \"Professor Rating\": \"10\"},\n",
    "    {\"RatingID\": \"B\", \"CourseID\": \"SEC2343\", \"Professor\": \"John Keating\", \"Course Rating\": \"8\", \"Professor Rating\": \"3\"},\n",
    "    {\"RatingID\": \"C\", \"CourseID\": \"SEC2343\", \"Professor\": \"John Keating\", \"Course Rating\": \"8\", \"Professor Rating\": \"3\"},\n",
    "    {\"RatingID\": \"D\", \"CourseID\": \"SEC7866\", \"Professor\": \"Vivian Banks\", \"Course Rating\": \"5\", \"Professor Rating\": \"6\"},\n",
    "    {\"RatingID\": \"E\", \"CourseID\": \"PROG980\", \"Professor\": \"Peter Venkman\", \"Course Rating\": np.nan, \"Professor Rating\": np.nan},\n",
    "    {\"RatingID\": \"F\", \"CourseID\": \"PROG898\", \"Professor\": \"Abraham Van Helsing\", \"Course Rating\": np.nan, \"Professor Rating\": np.nan},\n",
    "]\n",
    "\n"
   ]
  },
  {
   "cell_type": "markdown",
   "metadata": {},
   "source": [
    "------------------------------------------"
   ]
  },
  {
   "cell_type": "markdown",
   "metadata": {},
   "source": [
    "## **Part #3: Data Modification, Filtering, and Aggregation**"
   ]
  },
  {
   "cell_type": "markdown",
   "metadata": {},
   "source": [
    "### Back to ISSessions Executives Dataframe"
   ]
  },
  {
   "cell_type": "code",
   "execution_count": null,
   "metadata": {},
   "outputs": [],
   "source": [
    "df"
   ]
  },
  {
   "cell_type": "markdown",
   "metadata": {},
   "source": [
    "### Filtering Data: Simple Filter"
   ]
  },
  {
   "cell_type": "code",
   "execution_count": null,
   "metadata": {},
   "outputs": [],
   "source": [
    "simple_filter = df['how_hot'] > 9 # Anyone who is hotter than a 9\n",
    "df[simple_filter].reset_index(drop=True)"
   ]
  },
  {
   "cell_type": "markdown",
   "metadata": {},
   "source": [
    "### Filtering Data: AND"
   ]
  },
  {
   "cell_type": "code",
   "execution_count": null,
   "metadata": {},
   "outputs": [],
   "source": [
    "and_filter = (df['positions'].str.contains(\"President$\")) & (df['how_hot'] > 9) # anyone that has President in their title and is hotter than a 9 \n",
    "df[and_filter].reset_index(drop=True)"
   ]
  },
  {
   "cell_type": "markdown",
   "metadata": {},
   "source": [
    "### Filtering Data: OR"
   ]
  },
  {
   "cell_type": "code",
   "execution_count": null,
   "metadata": {},
   "outputs": [],
   "source": [
    "or_filter = (df['names'].str.len() < 4) | (df['Favourite Book'].str.contains(\"Ella Enchanted\")) # names with less than 4 letters or those who love Ella Enchanted\n",
    "df[or_filter].reset_index(drop=True)"
   ]
  },
  {
   "cell_type": "markdown",
   "metadata": {},
   "source": [
    "### Filtering Data: NOT"
   ]
  },
  {
   "cell_type": "code",
   "execution_count": null,
   "metadata": {},
   "outputs": [],
   "source": [
    "not_filter = ~(df['ages'] == 25) # Anyone who is not aged 25\n",
    "df[not_filter].reset_index(drop=True)"
   ]
  },
  {
   "cell_type": "markdown",
   "metadata": {},
   "source": [
    "### Applying an Operation on a Column in a Dataframe: Simple Math"
   ]
  },
  {
   "cell_type": "code",
   "execution_count": null,
   "metadata": {},
   "outputs": [],
   "source": [
    "df['how_hot'] = df['how_hot'] * 2 # Changing the hotness scale to be out of 20\n",
    "df['how_hot'] = df['how_hot'].replace(-2, -1) # Replace the -2 (NA) with -1\n",
    "df"
   ]
  },
  {
   "cell_type": "markdown",
   "metadata": {},
   "source": [
    "### Applying an Operation on a Column in a Dataframe: List Comprehension"
   ]
  },
  {
   "cell_type": "code",
   "execution_count": null,
   "metadata": {},
   "outputs": [],
   "source": [
    "df['signature'] = [\"{0}, {1}\".format(name, position) for name, position in zip(df['names'] , df['positions'])]\n",
    "df"
   ]
  },
  {
   "cell_type": "markdown",
   "metadata": {},
   "source": [
    "### Applying an Operation on a Column in a Dataframe Based on a Value in Another Column: Series.apply()"
   ]
  },
  {
   "cell_type": "code",
   "execution_count": null,
   "metadata": {},
   "outputs": [],
   "source": [
    "def change_nash_fav_book_to_giver(name, fav_book):\n",
    "    if name == \"Nash\":\n",
    "        return \"The Giver\"\n",
    "    else:\n",
    "        return fav_book\n",
    "            \n",
    "df['Favourite Book'] = df.apply(lambda x: change_nash_fav_book_to_giver(x['names'], x['Favourite Book']), axis=1)\n",
    "df"
   ]
  },
  {
   "cell_type": "markdown",
   "metadata": {},
   "source": [
    "### Applying an Operation on a Column in a Dataframe Based on a Value in Another Column: Filtering and Selection"
   ]
  },
  {
   "cell_type": "code",
   "execution_count": null,
   "metadata": {},
   "outputs": [],
   "source": [
    "df.loc[df['names'] == \"Nash\", 'Favourite Book'] = \"Ella Enchanted\"\n",
    "df"
   ]
  },
  {
   "cell_type": "markdown",
   "metadata": {},
   "source": [
    "### Data Aggregation: How Many ISSession Executives Like a Certain Book? Which Ones? What is their Average Age? What is their Average Hotness?"
   ]
  },
  {
   "cell_type": "code",
   "execution_count": null,
   "metadata": {},
   "outputs": [],
   "source": [
    "df = df.replace(-1, np.nan) # Replace -1 with NaN because aggregation operation will typically ignore NaNs\n",
    "\n",
    "def calc_average_age(col):\n",
    "    return col.sum() / col.count()\n",
    "\n",
    "aggregated_data = df.groupby(['Favourite Book']).agg(\n",
    "          name_count=('names', 'count'), # Builtin \n",
    "          name_list=('names', lambda x: \",\".join(x.unique())), # Lambda Custom Operation\n",
    "          average_age=('ages', calc_average_age), # Custom Function\n",
    "          average_hotness=('how_hot', 'mean') # Builtin\n",
    "        )\n",
    "\n",
    "aggregated_data"
   ]
  },
  {
   "cell_type": "markdown",
   "metadata": {},
   "source": [
    "### Data Sorting: Sort By Name Count *Then* Avergae Hotness "
   ]
  },
  {
   "cell_type": "code",
   "execution_count": null,
   "metadata": {},
   "outputs": [],
   "source": [
    "aggregated_data.sort_values(['name_count', 'average_hotness'], ascending=False)"
   ]
  },
  {
   "cell_type": "markdown",
   "metadata": {},
   "source": [
    "### Querying a Dataframe's Memory Consumption"
   ]
  },
  {
   "cell_type": "code",
   "execution_count": null,
   "metadata": {},
   "outputs": [],
   "source": [
    "df.memory_usage(deep=True) # Memory Usage by Column in Bytes"
   ]
  },
  {
   "cell_type": "markdown",
   "metadata": {},
   "source": [
    "----------------------------------------------\n",
    "### Exercise: Answer the Following Questions Based on the Data Provided\n",
    "- Question #1: Produce a dataframe that lists all destination_ips that sent out more than 500 bytes or were contacted by source_ip 10.10.99.11? Sort by bytes_out in descending order.\n",
    "- Question #2: Produce a dataframe that the describes the total and the average number of bytes each user sent out across all sessions? Sort by bytes_out in descending order.\n",
    "- Question #3: You realize that a hardware error caused all sessions with a source ip of 10.10.99.11 caused all \"bytes_in\" values to be cut by half (4000 -> 2000). Can you fix the problem? \n",
    "- *Extra*: Produce a dataframe that describes the total number of bytes (in and out) by user and source ip. Sort by total bytes in descending order."
   ]
  },
  {
   "cell_type": "code",
   "execution_count": null,
   "metadata": {},
   "outputs": [],
   "source": [
    "session_data = [\n",
    "    {\"session_id\": \"A\", \"user\": \"Thrall\", \"source_ip\": \"10.10.99.6\", \"destination_ip\": \"142.3.3.3\", \"bytes_in\": 452, \"bytes_out\": 4564},\n",
    "    {\"session_id\": \"B\", \"user\": \"Jaina Proudmoore\", \"source_ip\": \"10.10.99.11\", \"destination_ip\": \"142.3.3.3\", \"bytes_in\": 500, \"bytes_out\": 232}, \n",
    "    {\"session_id\": \"C\", \"user\": \"Illidan Stormrage\", \"source_ip\": \"10.10.99.6\", \"destination_ip\": \"142.3.4.5\", \"bytes_in\": 25, \"bytes_out\": 11}, \n",
    "    {\"session_id\": \"D\", \"user\": \"Thrall\", \"source_ip\": \"10.10.99.11\", \"destination_ip\": \"142.3.4.5\", \"bytes_in\": 4535, \"bytes_out\": 443}, \n",
    "    {\"session_id\": \"E\", \"user\": \"Jaina Proudmoore\", \"source_ip\": \"10.10.99.5\", \"destination_ip\": \"142.3.4.5\", \"bytes_in\": 12, \"bytes_out\": 5345}, \n",
    "    {\"session_id\": \"F\", \"user\": \"Illidan Stormrage\", \"source_ip\": \"10.10.99.11\", \"destination_ip\": \"142.3.3.3\", \"bytes_in\": 3423, \"bytes_out\": 45353}\n",
    "]\n",
    "\n"
   ]
  },
  {
   "cell_type": "markdown",
   "metadata": {},
   "source": [
    "### Question #1: Produce a dataframe that lists all destination_ips that sent out more than 500 bytes or were contacted by source_ip 10.10.99.11? Sort by bytes_out in descending order."
   ]
  },
  {
   "cell_type": "code",
   "execution_count": null,
   "metadata": {},
   "outputs": [],
   "source": []
  },
  {
   "cell_type": "markdown",
   "metadata": {},
   "source": [
    "### Question #2: Produce a dataframe that the describes the total and the average number of bytes each user sent out across all sessions? Sort by bytes_out in descending order."
   ]
  },
  {
   "cell_type": "code",
   "execution_count": null,
   "metadata": {},
   "outputs": [],
   "source": []
  },
  {
   "cell_type": "markdown",
   "metadata": {},
   "source": [
    "### Question #3: You realize that a hardware error caused all sessions with a source ip of 10.10.99.11 caused all \"bytes_in\" values to be cut by half (4000 -> 2000). Can you fix the problem?"
   ]
  },
  {
   "cell_type": "code",
   "execution_count": null,
   "metadata": {},
   "outputs": [],
   "source": []
  },
  {
   "cell_type": "markdown",
   "metadata": {},
   "source": [
    "### Extra: Produce a dataframe that describes the total number of bytes (in and out) by user and source ip. Sort by total bytes in descending order."
   ]
  },
  {
   "cell_type": "code",
   "execution_count": null,
   "metadata": {},
   "outputs": [],
   "source": []
  },
  {
   "cell_type": "markdown",
   "metadata": {},
   "source": [
    "-----------------------------------------------"
   ]
  },
  {
   "cell_type": "markdown",
   "metadata": {},
   "source": [
    "## **Part #4: Data Correlation (Key-Based)**"
   ]
  },
  {
   "cell_type": "code",
   "execution_count": null,
   "metadata": {},
   "outputs": [],
   "source": [
    "network_connection_data = [\n",
    "    {\"connection_id\": \"A\", \"source_ip\": \"10.10.99.6\", \"destination_ip\": \"142.3.3.3\", \"source_port\": 56444, \"destination_port\": 22, \"process_id\": \"ABC\"},\n",
    "    {\"connection_id\": \"B\", \"source_ip\": \"10.10.99.11\", \"destination_ip\": \"142.3.3.3\", \"source_port\": 12789, \"destination_port\": 25, \"process_id\": \"DEF\"}, \n",
    "    {\"connection_id\": \"C\", \"source_ip\": \"10.10.99.6\", \"destination_ip\": \"142.3.4.5\", \"source_port\": 32333, \"destination_port\": 443, \"process_id\": \"ABC\"}, \n",
    "    {\"connection_id\": \"D\", \"source_ip\": \"10.10.99.11\", \"destination_ip\": \"142.3.4.5\", \"source_port\": 5645, \"destination_port\": 4444, \"process_id\": \"DEF\"}, # IOC\n",
    "    {\"connection_id\": \"E\", \"source_ip\": \"10.10.99.6\", \"destination_ip\": \"142.3.4.5\", \"source_port\": 3425, \"destination_port\": 80, \"process_id\": \"ABC\"}, \n",
    "    {\"connection_id\": \"F\", \"source_ip\": \"10.10.99.11\", \"destination_ip\": \"142.3.3.3\", \"source_port\": 3423, \"destination_port\": 443, \"process_id\": \"DEF\"}\n",
    "]\n",
    "\n",
    "network_connection_df = pd.DataFrame(network_connection_data)\n",
    "network_connection_df"
   ]
  },
  {
   "cell_type": "code",
   "execution_count": null,
   "metadata": {},
   "outputs": [],
   "source": [
    "process_data = [\n",
    "    {\"process_id\": \"ABC\", \"process_name\": \"WindowsTerminal.exe\", \"process_commandline\": \"WindowsTerminal.exe\"},\n",
    "    {\"process_id\": \"DEF\", \"process_name\": \"Slackk.exe\", \"process_commandline\": \"Slackk.exe -e cmd.exe\"}, # Launching a Shell \n",
    "    {\"process_id\": \"DEF\", \"process_name\": \"Slackk.exe\", \"process_commandline\": \"Slackk.exe -exf nothing_suspicious_here.zip\"},\n",
    "    {\"process_id\": \"GHI\", \"process_name\": \"powershell.exe\", \"process_commandline\": \"powershell.exe -command 'Get-Process'\"}\n",
    "]\n",
    "\n",
    "process_data_df = pd.DataFrame(process_data)\n",
    "process_data_df"
   ]
  },
  {
   "cell_type": "code",
   "execution_count": null,
   "metadata": {},
   "outputs": [],
   "source": [
    "merged_df = process_data_df.merge(right=network_connection_df, how=\"inner\", on=\"process_id\")\n",
    "merged_df"
   ]
  },
  {
   "cell_type": "code",
   "execution_count": null,
   "metadata": {},
   "outputs": [],
   "source": [
    "merged_df['source'] = merged_df['source_ip'] + \":\" + merged_df['source_port'].astype(str)\n",
    "merged_df['destination'] = merged_df['destination_ip'] + \":\" + merged_df['destination_port'].astype(str)\n",
    "merged_df = merged_df.drop(['source_ip', 'source_port', 'destination_ip', 'destination_port'], axis=1)\n",
    "merged_df"
   ]
  },
  {
   "cell_type": "code",
   "execution_count": null,
   "metadata": {},
   "outputs": [],
   "source": [
    "report_df = merged_df.groupby(['process_id', 'process_name']) \\\n",
    "         .agg(\n",
    "    process_commandlines=('process_commandline', lambda x: \" -> \".join(x.unique())),\n",
    "    destinations=('destination', lambda x: \" -> \".join(x.unique()))\n",
    "    )\n",
    "report_df"
   ]
  },
  {
   "cell_type": "markdown",
   "metadata": {},
   "source": [
    "### Reporting: Convert to JSON"
   ]
  },
  {
   "cell_type": "code",
   "execution_count": null,
   "metadata": {},
   "outputs": [],
   "source": [
    "import json\n",
    "json.loads(report_df.to_json())"
   ]
  },
  {
   "cell_type": "markdown",
   "metadata": {},
   "source": [
    "### Reporting: Convert to CSV"
   ]
  },
  {
   "cell_type": "code",
   "execution_count": null,
   "metadata": {},
   "outputs": [],
   "source": [
    "report_df.to_csv(\"report.csv\")\n",
    "# report_df.to_excel(\"report.xlsx\")"
   ]
  },
  {
   "cell_type": "markdown",
   "metadata": {},
   "source": [
    "### Reporting: Convert to HTML"
   ]
  },
  {
   "cell_type": "code",
   "execution_count": null,
   "metadata": {},
   "outputs": [],
   "source": [
    "report_df.to_html(\"report.html\")"
   ]
  },
  {
   "cell_type": "markdown",
   "metadata": {},
   "source": [
    "## **Personal Project: Real-World Data Analysis**"
   ]
  },
  {
   "cell_type": "code",
   "execution_count": null,
   "metadata": {},
   "outputs": [],
   "source": [
    "urlhaus_malicious_urls = pd.read_csv(\"malicious_urls.csv\")\n",
    "urlhaus_malicious_urls"
   ]
  },
  {
   "cell_type": "code",
   "execution_count": null,
   "metadata": {},
   "outputs": [],
   "source": []
  }
 ],
 "metadata": {
  "kernelspec": {
   "display_name": "Python 3",
   "language": "python",
   "name": "python3"
  },
  "language_info": {
   "codemirror_mode": {
    "name": "ipython",
    "version": 3
   },
   "file_extension": ".py",
   "mimetype": "text/x-python",
   "name": "python",
   "nbconvert_exporter": "python",
   "pygments_lexer": "ipython3",
   "version": "3.8.6"
  }
 },
 "nbformat": 4,
 "nbformat_minor": 4
}
